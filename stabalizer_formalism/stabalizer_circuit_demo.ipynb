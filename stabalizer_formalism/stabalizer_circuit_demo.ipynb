{
 "cells": [
  {
   "cell_type": "code",
   "execution_count": 2,
   "metadata": {},
   "outputs": [],
   "source": [
    "import numpy as np\n",
    "from stabalizer_circuit import StabilizerCircuit"
   ]
  },
  {
   "cell_type": "markdown",
   "metadata": {},
   "source": [
    "# Circuit Functions\n",
    "\n",
    "Define two helper functions: one to build a 2-qubit Bell pair, and one to build an n-qubit GHZ state.\n"
   ]
  },
  {
   "cell_type": "code",
   "execution_count": 13,
   "metadata": {},
   "outputs": [],
   "source": [
    "# Define helper functions\n",
    "def make_bell() -> StabilizerCircuit:\n",
    "    sc = StabilizerCircuit(2)\n",
    "    sc.h(0)\n",
    "    sc.cx(0, 1)\n",
    "    return sc\n",
    "\n",
    "def make_ghz(n: int = 3) -> StabilizerCircuit:\n",
    "    sc = StabilizerCircuit(n)\n",
    "    sc.h(0)\n",
    "    for i in range(1, n):\n",
    "        sc.cx(0, i)\n",
    "    return sc\n",
    "\n",
    "# for printing\n",
    "def format_complex(arr, tol=1e-8):\n",
    "    \"\"\"\n",
    "    Format a complex scalar or numpy array with 4 decimal places,\n",
    "    dropping negligible real or imaginary parts.\n",
    "\n",
    "    Args:\n",
    "      arr: A complex number or array-like of complex numbers.\n",
    "      tol: Threshold below which a real/imag part is considered zero.\n",
    "\n",
    "    Returns:\n",
    "      If arr is scalar: a formatted string.\n",
    "      If arr is array-like: prints each row with formatted entries.\n",
    "    \"\"\"\n",
    "    def _fmt(z):\n",
    "        if abs(z.imag) < tol:\n",
    "            return f\"{z.real:.4f}\"\n",
    "        if abs(z.real) < tol:\n",
    "            return f\"{z.imag:.4f}j\"\n",
    "        return f\"{z.real:.4f}{z.imag:+.4f}j\"\n",
    "\n",
    "    arr_np = np.array(arr)\n",
    "    if arr_np.ndim == 0:  # scalar\n",
    "        return _fmt(arr_np.item())\n",
    "    elif arr_np.ndim == 1:\n",
    "        print(\"[\", \"  \".join(_fmt(z) for z in arr_np), \"]\")\n",
    "    else:\n",
    "        for row in arr_np:\n",
    "            print(\"[\", \"  \".join(_fmt(z) for z in row), \"]\")\n"
   ]
  },
  {
   "cell_type": "markdown",
   "metadata": {},
   "source": [
    "# Bell-Pair Analysis\n",
    "\n",
    "1. Build and display the Bell-pair circuit.  \n",
    "2. Compute and print the exact statevector.  \n",
    "3. Perform full Pauli tomography on qubits [0,1] and print the reconstructed density matrix.  \n",
    "4. Compare to the ideal density matrix and compute the tomography fidelity.\n"
   ]
  },
  {
   "cell_type": "code",
   "execution_count": 14,
   "metadata": {},
   "outputs": [
    {
     "name": "stdout",
     "output_type": "stream",
     "text": [
      "Circuit:\n",
      "H 0\n",
      "CX 0 1\n",
      "\n",
      "Statevector:\n",
      "[ 0.7071  0.0000  0.0000  0.7071 ]\n",
      "\n",
      "Reconstructed ρ:\n",
      "[ 0.5072  -0.0098+0.0013j  -0.0003-0.0005j  0.5000-0.0063j ]\n",
      "[ -0.0098-0.0013j  -0.0128  -0.0077j  0.0158-0.0100j ]\n",
      "[ -0.0003+0.0005j  0.0077j  0.0127  0.0078-0.0027j ]\n",
      "[ 0.5000+0.0063j  0.0158+0.0100j  0.0078+0.0027j  0.4928 ]\n",
      "\n",
      "Ideal ρ:\n",
      "[ 0.5000  0.0000  0.0000  0.5000 ]\n",
      "[ 0.0000  0.0000  0.0000  0.0000 ]\n",
      "[ 0.0000  0.0000  0.0000  0.0000 ]\n",
      "[ 0.5000  0.0000  0.0000  0.5000 ]\n",
      "\n",
      "Fidelity: 1.0000\n"
     ]
    }
   ],
   "source": [
    "# Bell-pair example\n",
    "\n",
    "# build the circuit\n",
    "sc = make_bell()\n",
    "\n",
    "# print the Stim circuit directly\n",
    "print(\"Circuit:\")\n",
    "print(sc.circuit)\n",
    "\n",
    "# exact statevector\n",
    "psi = sc.state_vector()\n",
    "print(\"\\nStatevector:\")\n",
    "format_complex(psi)         \n",
    "\n",
    "# tomography\n",
    "rho = sc.tomography_dm([0, 1], shots=2000)\n",
    "print(\"\\nReconstructed rho:\")\n",
    "format_complex(rho)      \n",
    "\n",
    "# ideal density and fidelity\n",
    "rho_ideal = np.outer(psi, psi.conj())\n",
    "print(\"\\nIdeal rho:\")\n",
    "format_complex(rho_ideal)\n",
    "\n",
    "fidelity = np.real(psi.conj() @ (rho @ psi))\n",
    "print(\"\\nFidelity:\", f\"{fidelity:.4f}\")\n"
   ]
  },
  {
   "cell_type": "markdown",
   "metadata": {},
   "source": [
    "# 3-Qubit GHZ Analysis\n",
    "\n",
    "1. Build and display the 3-qubit GHZ circuit.  \n",
    "2. Compute and print the exact statevector.  \n",
    "3. Perform full Pauli tomography on all three qubits and print the reconstructed density matrix.  \n",
    "4. Compare to the ideal density matrix and compute the tomography fidelity.\n"
   ]
  },
  {
   "cell_type": "code",
   "execution_count": 15,
   "metadata": {},
   "outputs": [
    {
     "name": "stdout",
     "output_type": "stream",
     "text": [
      "Circuit:\n",
      "H 0\n",
      "CX 0 1 0 2\n",
      "\n",
      "Statevector:\n",
      "[ 0.7071  0.0000  0.0000  0.0000  0.0000  0.0000  0.0000  0.7071 ]\n",
      "\n",
      "Reconstructed ρ:\n",
      "[ 0.4931  -0.0101-0.0033j  -0.0041+0.0019j  -0.0074+0.0039j  0.0029+0.0011j  -0.0061+0.0090j  -0.0096-0.0057j  0.5000+0.0065j ]\n",
      "[ -0.0101+0.0033j  0.0014  0.0006+0.0069j  0.0061+0.0061j  0.0056-0.0017j  -0.0006+0.0091j  0.0040j  0.0026-0.0005j ]\n",
      "[ -0.0041-0.0019j  0.0006-0.0069j  0.0021  -0.0039+0.0018j  -0.0076+0.0030j  -0.0007j  0.0009+0.0074j  -0.0086-0.0100j ]\n",
      "[ -0.0074-0.0039j  0.0061-0.0061j  -0.0039-0.0018j  0.0099  0.0068j  0.0056-0.0033j  0.0001+0.0028j  -0.0001+0.0074j ]\n",
      "[ 0.0029-0.0011j  0.0056+0.0017j  -0.0076-0.0030j  -0.0068j  -0.0099  0.0011+0.0047j  0.0031+0.0019j  -0.0034-0.0076j ]\n",
      "[ -0.0061-0.0090j  -0.0006-0.0091j  0.0007j  0.0056+0.0033j  0.0011-0.0047j  -0.0021  0.0011+0.0069j  -0.0001-0.0074j ]\n",
      "[ -0.0096+0.0057j  -0.0040j  0.0009-0.0074j  0.0001-0.0028j  0.0031-0.0019j  0.0011-0.0069j  -0.0014  -0.0071+0.0047j ]\n",
      "[ 0.5000-0.0065j  0.0026+0.0005j  -0.0086+0.0100j  -0.0001-0.0074j  -0.0034+0.0076j  -0.0001+0.0074j  -0.0071-0.0047j  0.5069 ]\n",
      "\n",
      "Ideal ρ:\n",
      "[ 0.5000  0.0000  0.0000  0.0000  0.0000  0.0000  0.0000  0.5000 ]\n",
      "[ 0.0000  0.0000  0.0000  0.0000  0.0000  0.0000  0.0000  0.0000 ]\n",
      "[ 0.0000  0.0000  0.0000  0.0000  0.0000  0.0000  0.0000  0.0000 ]\n",
      "[ 0.0000  0.0000  0.0000  0.0000  0.0000  0.0000  0.0000  0.0000 ]\n",
      "[ 0.0000  0.0000  0.0000  0.0000  0.0000  0.0000  0.0000  0.0000 ]\n",
      "[ 0.0000  0.0000  0.0000  0.0000  0.0000  0.0000  0.0000  0.0000 ]\n",
      "[ 0.0000  0.0000  0.0000  0.0000  0.0000  0.0000  0.0000  0.0000 ]\n",
      "[ 0.5000  0.0000  0.0000  0.0000  0.0000  0.0000  0.0000  0.5000 ]\n",
      "\n",
      "Fidelity: 1.0000\n"
     ]
    }
   ],
   "source": [
    "# 3-qubit GHZ example\n",
    "\n",
    "sc = make_ghz(3)\n",
    "\n",
    "print(\"Circuit:\")\n",
    "print(sc.circuit)\n",
    "\n",
    "psi = sc.state_vector()\n",
    "print(\"\\nStatevector:\")\n",
    "format_complex(psi)\n",
    "\n",
    "rho = sc.tomography_dm([0, 1, 2], shots=2000)\n",
    "print(\"\\nReconstructed rho:\")\n",
    "format_complex(rho)\n",
    "\n",
    "rho_ideal = np.outer(psi, psi.conj())\n",
    "print(\"\\nIdeal rho:\")\n",
    "format_complex(rho_ideal)\n",
    "\n",
    "fidelity = np.real(psi.conj() @ (rho @ psi))\n",
    "print(\"\\nFidelity:\", f\"{fidelity:.4f}\")\n"
   ]
  }
 ],
 "metadata": {
  "kernelspec": {
   "display_name": "Python 3",
   "language": "python",
   "name": "python3"
  },
  "language_info": {
   "codemirror_mode": {
    "name": "ipython",
    "version": 3
   },
   "file_extension": ".py",
   "mimetype": "text/x-python",
   "name": "python",
   "nbconvert_exporter": "python",
   "pygments_lexer": "ipython3",
   "version": "3.11.9"
  }
 },
 "nbformat": 4,
 "nbformat_minor": 2
}
