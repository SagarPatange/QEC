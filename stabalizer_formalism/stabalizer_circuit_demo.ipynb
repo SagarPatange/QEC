{
 "cells": [
  {
   "cell_type": "code",
   "execution_count": 8,
   "metadata": {},
   "outputs": [],
   "source": [
    "import numpy as np\n",
    "from stabalizer_circuit import StabilizerCircuit"
   ]
  },
  {
   "cell_type": "markdown",
   "metadata": {},
   "source": [
    "# Circuit Functions\n",
    "\n",
    "Define two helper functions: one to build a 2-qubit Bell pair, and one to build an n-qubit GHZ state.\n"
   ]
  },
  {
   "cell_type": "code",
   "execution_count": 9,
   "metadata": {},
   "outputs": [],
   "source": [
    "# Define helper functions\n",
    "def make_bell() -> StabilizerCircuit:\n",
    "    sc = StabilizerCircuit(2)\n",
    "    sc.h(0)\n",
    "    sc.cx(0, 1)\n",
    "    return sc\n",
    "\n",
    "def make_ghz(n: int = 3) -> StabilizerCircuit:\n",
    "    sc = StabilizerCircuit(n)\n",
    "    sc.h(0)\n",
    "    for i in range(1, n):\n",
    "        sc.cx(0, i)\n",
    "    return sc\n",
    "\n",
    "# for printing\n",
    "def format_complex(arr, tol=1e-8):\n",
    "    \"\"\"\n",
    "    Format a complex scalar or numpy array with 4 decimal places,\n",
    "    dropping negligible real or imaginary parts.\n",
    "\n",
    "    Args:\n",
    "      arr: A complex number or array-like of complex numbers.\n",
    "      tol: Threshold below which a real/imag part is considered zero.\n",
    "\n",
    "    Returns:\n",
    "      If arr is scalar: a formatted string.\n",
    "      If arr is array-like: prints each row with formatted entries.\n",
    "    \"\"\"\n",
    "    def _fmt(z):\n",
    "        if abs(z.imag) < tol:\n",
    "            return f\"{z.real:.4f}\"\n",
    "        if abs(z.real) < tol:\n",
    "            return f\"{z.imag:.4f}j\"\n",
    "        return f\"{z.real:.4f}{z.imag:+.4f}j\"\n",
    "\n",
    "    arr_np = np.array(arr)\n",
    "    if arr_np.ndim == 0:  # scalar\n",
    "        return _fmt(arr_np.item())\n",
    "    elif arr_np.ndim == 1:\n",
    "        print(\"[\", \"  \".join(_fmt(z) for z in arr_np), \"]\")\n",
    "    else:\n",
    "        for row in arr_np:\n",
    "            print(\"[\", \"  \".join(_fmt(z) for z in row), \"]\")\n"
   ]
  },
  {
   "cell_type": "markdown",
   "metadata": {},
   "source": [
    "# Bell-Pair Analysis\n",
    "\n",
    "1. Build and display the Bell-pair circuit.  \n",
    "2. Compute and print the exact statevector.  \n",
    "3. Perform full Pauli tomography on qubits [0,1] and print the reconstructed density matrix.  \n",
    "4. Compare to the ideal density matrix and compute the tomography fidelity.\n"
   ]
  },
  {
   "cell_type": "code",
   "execution_count": 10,
   "metadata": {},
   "outputs": [
    {
     "name": "stdout",
     "output_type": "stream",
     "text": [
      "Circuit:\n",
      "H 0\n",
      "CX 0 1\n",
      "\n",
      "Statevector:\n",
      "[ 0.7071  0.0000  0.0000  0.7071 ]\n",
      "\n",
      "Reconstructed rho:\n",
      "[ 0.4985  -0.0088-0.0163j  -0.0140+0.0010j  0.5000-0.0135j ]\n",
      "[ -0.0088+0.0163j  -0.0015  -0.0160j  0.0080+0.0010j ]\n",
      "[ -0.0140-0.0010j  0.0160j  0.0015  0.0088-0.0057j ]\n",
      "[ 0.5000+0.0135j  0.0080-0.0010j  0.0088+0.0057j  0.5015 ]\n",
      "\n",
      "Ideal rho:\n",
      "[ 0.5000  0.0000  0.0000  0.5000 ]\n",
      "[ 0.0000  0.0000  0.0000  0.0000 ]\n",
      "[ 0.0000  0.0000  0.0000  0.0000 ]\n",
      "[ 0.5000  0.0000  0.0000  0.5000 ]\n",
      "\n",
      "Fidelity: 1.0000\n"
     ]
    }
   ],
   "source": [
    "# Bell-pair example\n",
    "\n",
    "# build the circuit\n",
    "sc = make_bell()\n",
    "\n",
    "# print the Stim circuit directly\n",
    "print(\"Circuit:\")\n",
    "print(sc.circuit)\n",
    "\n",
    "# exact statevector\n",
    "psi = sc.state_vector()\n",
    "print(\"\\nStatevector:\")\n",
    "format_complex(psi)         \n",
    "\n",
    "# tomography\n",
    "rho = sc.tomography_dm([0, 1], shots=2000)\n",
    "print(\"\\nReconstructed rho:\")\n",
    "format_complex(rho)      \n",
    "\n",
    "# ideal density and fidelity\n",
    "rho_ideal = np.outer(psi, psi.conj())\n",
    "print(\"\\nIdeal rho:\")\n",
    "format_complex(rho_ideal)\n",
    "\n",
    "fidelity = np.real(psi.conj() @ (rho @ psi))\n",
    "print(\"\\nFidelity:\", f\"{fidelity:.4f}\")\n"
   ]
  },
  {
   "cell_type": "markdown",
   "metadata": {},
   "source": [
    "# 3-Qubit GHZ Analysis\n",
    "\n",
    "1. Build and display the 3-qubit GHZ circuit.  \n",
    "2. Compute and print the exact statevector.  \n",
    "3. Perform full Pauli tomography on all three qubits and print the reconstructed density matrix.  \n",
    "4. Compare to the ideal density matrix and compute the tomography fidelity.\n"
   ]
  },
  {
   "cell_type": "code",
   "execution_count": 11,
   "metadata": {},
   "outputs": [
    {
     "name": "stdout",
     "output_type": "stream",
     "text": [
      "Circuit:\n",
      "H 0\n",
      "CX 0 1 0 2\n",
      "\n",
      "Statevector:\n",
      "[ 0.7071  0.0000  0.0000  0.0000  0.0000  0.0000  0.0000  0.7071 ]\n",
      "\n",
      "Reconstructed rho:\n",
      "[ 0.4986  0.0046-0.0019j  0.0116-0.0069j  0.0020-0.0077j  0.0013+0.0140j  -0.0063-0.0086j  0.0089+0.0037j  0.5000+0.0027j ]\n",
      "[ 0.0046+0.0019j  -0.0084  0.0057-0.0085j  0.0019+0.0066j  0.0002+0.0066j  -0.0035+0.0025j  -0.0015j  0.0044-0.0050j ]\n",
      "[ 0.0116+0.0069j  0.0057+0.0085j  -0.0031  0.0099-0.0024j  -0.0019+0.0028j  0.0065j  0.0030-0.0110j  -0.0032+0.0084j ]\n",
      "[ 0.0020+0.0077j  0.0019-0.0066j  0.0099+0.0024j  -0.0046  -0.0077j  -0.0019+0.0030j  0.0052+0.0006j  0.0037+0.0110j ]\n",
      "[ 0.0013-0.0140j  0.0002-0.0066j  -0.0019-0.0028j  0.0077j  0.0046  0.0069+0.0021j  0.0079+0.0044j  -0.0170+0.0077j ]\n",
      "[ -0.0063+0.0086j  -0.0035-0.0025j  -0.0065j  -0.0019-0.0030j  0.0069-0.0021j  0.0031  -0.0068-0.0020j  -0.0149-0.0051j ]\n",
      "[ 0.0089-0.0037j  0.0015j  0.0030+0.0110j  0.0052-0.0006j  0.0079-0.0044j  -0.0068+0.0020j  0.0084  -0.0054-0.0004j ]\n",
      "[ 0.5000-0.0027j  0.0044+0.0050j  -0.0032-0.0084j  0.0037-0.0110j  -0.0170-0.0077j  -0.0149+0.0051j  -0.0054+0.0004j  0.5014 ]\n",
      "\n",
      "Ideal rho:\n",
      "[ 0.5000  0.0000  0.0000  0.0000  0.0000  0.0000  0.0000  0.5000 ]\n",
      "[ 0.0000  0.0000  0.0000  0.0000  0.0000  0.0000  0.0000  0.0000 ]\n",
      "[ 0.0000  0.0000  0.0000  0.0000  0.0000  0.0000  0.0000  0.0000 ]\n",
      "[ 0.0000  0.0000  0.0000  0.0000  0.0000  0.0000  0.0000  0.0000 ]\n",
      "[ 0.0000  0.0000  0.0000  0.0000  0.0000  0.0000  0.0000  0.0000 ]\n",
      "[ 0.0000  0.0000  0.0000  0.0000  0.0000  0.0000  0.0000  0.0000 ]\n",
      "[ 0.0000  0.0000  0.0000  0.0000  0.0000  0.0000  0.0000  0.0000 ]\n",
      "[ 0.5000  0.0000  0.0000  0.0000  0.0000  0.0000  0.0000  0.5000 ]\n",
      "\n",
      "Fidelity: 1.0000\n"
     ]
    }
   ],
   "source": [
    "# 3-qubit GHZ example\n",
    "\n",
    "sc = make_ghz(3)\n",
    "\n",
    "print(\"Circuit:\")\n",
    "print(sc.circuit)\n",
    "\n",
    "psi = sc.state_vector()\n",
    "print(\"\\nStatevector:\")\n",
    "format_complex(psi)\n",
    "\n",
    "rho = sc.tomography_dm([0, 1, 2], shots=2000)\n",
    "print(\"\\nReconstructed rho:\")\n",
    "format_complex(rho)\n",
    "\n",
    "rho_ideal = np.outer(psi, psi.conj())\n",
    "print(\"\\nIdeal rho:\")\n",
    "format_complex(rho_ideal)\n",
    "\n",
    "fidelity = np.real(psi.conj() @ (rho @ psi))\n",
    "print(\"\\nFidelity:\", f\"{fidelity:.4f}\")\n"
   ]
  },
  {
   "cell_type": "markdown",
   "metadata": {},
   "source": [
    "## Pauli Channel Noise\n",
    "\n",
    "Apply a single-qubit Pauli error channel on qubit 0 of a Bell pair using `PAULI_CHANNEL_1`.\n"
   ]
  },
  {
   "cell_type": "code",
   "execution_count": 12,
   "metadata": {},
   "outputs": [
    {
     "name": "stdout",
     "output_type": "stream",
     "text": [
      "Circuit:\n",
      "H 0\n",
      "CX 0 1\n",
      "PAULI_CHANNEL_1(0.1, 0.05, 0.02) 0\n",
      "\n",
      "Statevector after Pauli channel:\n",
      "[ 0.7071  0.0000  0.0000  0.7071 ]\n",
      "\n",
      "Reconstructed ρ:\n",
      "[ 0.4305  -0.0057-0.0052j  -0.0185+0.0145j  0.4057+0.0165j ]\n",
      "[ -0.0057+0.0052j  0.0635  0.0207+0.0020j  -0.0225-0.0095j ]\n",
      "[ -0.0185-0.0145j  0.0207-0.0020j  0.0825  0.0063-0.0012j ]\n",
      "[ 0.4057-0.0165j  -0.0225+0.0095j  0.0063+0.0012j  0.4235 ]\n",
      "\n",
      "Ideal ρ:\n",
      "[ 0.5000  0.0000  0.0000  0.5000 ]\n",
      "[ 0.0000  0.0000  0.0000  0.0000 ]\n",
      "[ 0.0000  0.0000  0.0000  0.0000 ]\n",
      "[ 0.5000  0.0000  0.0000  0.5000 ]\n",
      "\n",
      "Fidelity: 0.8327\n"
     ]
    }
   ],
   "source": [
    "sc = make_bell()\n",
    "sc.pauli_channel(0, (0.10, 0.05, 0.02))  # pX=0.10, pY=0.05, pZ=0.02\n",
    "\n",
    "print(\"Circuit:\")\n",
    "print(sc.circuit)\n",
    "\n",
    "psi = sc.state_vector()\n",
    "print(\"\\nStatevector after Pauli channel:\")\n",
    "format_complex(psi)\n",
    "\n",
    "rho = sc.tomography_dm([0, 1], shots=2000)\n",
    "print(\"\\nReconstructed rho:\")\n",
    "format_complex(rho)\n",
    "\n",
    "rho_ideal = np.outer(psi, psi.conj())\n",
    "print(\"\\nIdeal rho:\")\n",
    "format_complex(rho_ideal)\n",
    "\n",
    "fidelity = np.real(psi.conj() @ (rho @ psi))\n",
    "print(\"\\nFidelity:\", f\"{fidelity:.4f}\")\n"
   ]
  },
  {
   "cell_type": "markdown",
   "metadata": {},
   "source": [
    "## Depolarizing Noise\n",
    "\n",
    "Apply a single-qubit depolarizing channel on qubit 1 of a Bell pair using `DEPOLARIZE1`.\n"
   ]
  },
  {
   "cell_type": "code",
   "execution_count": 20,
   "metadata": {},
   "outputs": [
    {
     "name": "stdout",
     "output_type": "stream",
     "text": [
      "Circuit:\n",
      "H 0\n",
      "CX 0 1\n",
      "DEPOLARIZE1(0.3) 1\n",
      "\n",
      "Statevector after depolarization:\n",
      "[ 0.7071  0.0000  0.0000  -0.7071 ]\n",
      "\n",
      "Reconstructed ρ:\n",
      "[ 0.3947  -0.0018+0.0110j  -0.0093-0.0067j  0.3010+0.0003j ]\n",
      "[ -0.0018-0.0110j  0.1013  0.0005+0.0023j  0.0152-0.0053j ]\n",
      "[ -0.0093+0.0067j  0.0005-0.0023j  0.1067  -0.0083+0.0120j ]\n",
      "[ 0.3010-0.0003j  0.0152+0.0053j  -0.0083-0.0120j  0.3972 ]\n",
      "\n",
      "Ideal ρ:\n",
      "[ 0.5000  0.0000  0.0000  -0.5000 ]\n",
      "[ 0.0000  0.0000  0.0000  0.0000 ]\n",
      "[ 0.0000  0.0000  0.0000  0.0000 ]\n",
      "[ -0.5000  0.0000  0.0000  0.5000 ]\n",
      "\n",
      "Fidelity: 0.0950\n"
     ]
    }
   ],
   "source": [
    "sc = make_bell()\n",
    "sc.depolarize(1, 0.3)  # 5% depolarization on qubit 1\n",
    "\n",
    "print(\"Circuit:\")\n",
    "print(sc.circuit)\n",
    "\n",
    "psi = sc.state_vector()\n",
    "print(\"\\nStatevector after depolarization:\")\n",
    "format_complex(psi)\n",
    "\n",
    "rho = sc.tomography_dm([0, 1], shots=2000)\n",
    "print(\"\\nReconstructed rho:\")\n",
    "format_complex(rho)\n",
    "\n",
    "rho_ideal = np.outer(psi, psi.conj())\n",
    "print(\"\\nIdeal rho:\")\n",
    "format_complex(rho_ideal)\n",
    "\n",
    "fidelity = np.real(psi.conj() @ (rho @ psi))\n",
    "print(\"\\nFidelity:\", f\"{fidelity:.4f}\")\n"
   ]
  },
  {
   "cell_type": "markdown",
   "metadata": {},
   "source": [
    "## Idle-Induced Depolarization\n",
    "\n",
    "Model idling noise on qubit 0 over a duration using either T₂ or T₁. Here we use a pure‐dephasing T₂ formula.\n"
   ]
  },
  {
   "cell_type": "code",
   "execution_count": 21,
   "metadata": {},
   "outputs": [
    {
     "name": "stdout",
     "output_type": "stream",
     "text": [
      "Circuit:\n",
      "H 0\n",
      "CX 0 1\n",
      "DEPOLARIZE1(0.204691) 0\n",
      "\n",
      "Statevector after idling noise:\n",
      "[ 0.7071  0.0000  0.0000  0.7071 ]\n",
      "\n",
      "Reconstructed ρ:\n",
      "[ 0.4225  -0.0130+0.0073j  -0.0088+0.0060j  0.3605+0.0073j ]\n",
      "[ -0.0130-0.0073j  0.0720  -0.0025-0.0097j  -0.0002-0.0015j ]\n",
      "[ -0.0088-0.0060j  -0.0025+0.0097j  0.0770  -0.0150-0.0203j ]\n",
      "[ 0.3605-0.0073j  -0.0002+0.0015j  -0.0150+0.0203j  0.4285 ]\n",
      "\n",
      "Ideal ρ:\n",
      "[ 0.5000  0.0000  0.0000  0.5000 ]\n",
      "[ 0.0000  0.0000  0.0000  0.0000 ]\n",
      "[ 0.0000  0.0000  0.0000  0.0000 ]\n",
      "[ 0.5000  0.0000  0.0000  0.5000 ]\n",
      "\n",
      "Fidelity: 0.7860\n"
     ]
    }
   ],
   "source": [
    "sc = make_bell()\n",
    "sc.idle(0, time=5.0, T2=30.0)  # idle for 5 units with T2=30\n",
    "\n",
    "print(\"Circuit:\")\n",
    "print(sc.circuit)\n",
    "\n",
    "psi = sc.state_vector()\n",
    "print(\"\\nStatevector after idling noise:\")\n",
    "format_complex(psi)\n",
    "\n",
    "rho = sc.tomography_dm([0, 1], shots=2000)\n",
    "print(\"\\nReconstructed rho:\")\n",
    "format_complex(rho)\n",
    "\n",
    "rho_ideal = np.outer(psi, psi.conj())\n",
    "print(\"\\nIdeal rho:\")\n",
    "format_complex(rho_ideal)\n",
    "\n",
    "fidelity = np.real(psi.conj() @ (rho @ psi))\n",
    "print(\"\\nFidelity:\", f\"{fidelity:.4f}\")\n"
   ]
  }
 ],
 "metadata": {
  "kernelspec": {
   "display_name": "Python 3",
   "language": "python",
   "name": "python3"
  },
  "language_info": {
   "codemirror_mode": {
    "name": "ipython",
    "version": 3
   },
   "file_extension": ".py",
   "mimetype": "text/x-python",
   "name": "python",
   "nbconvert_exporter": "python",
   "pygments_lexer": "ipython3",
   "version": "3.11.9"
  }
 },
 "nbformat": 4,
 "nbformat_minor": 2
}
